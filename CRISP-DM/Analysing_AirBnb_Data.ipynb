{
 "cells": [
  {
   "cell_type": "markdown",
   "metadata": {},
   "source": [
    "# Analysing and Visualising AirBnb Data  Using CRISP-DM"
   ]
  },
  {
   "cell_type": "markdown",
   "metadata": {},
   "source": [
    "## Methodology"
   ]
  },
  {
   "cell_type": "markdown",
   "metadata": {},
   "source": [
    "This analysis is going to follow the CRISP-DM methodology, cross-industry process for data mining. CRISP-DM is a robust and well known methodology that provides a structured approach to planning a data mining project. It includes the following processes:\n",
    "\n",
    "1) business understanding <br>\n",
    "2) data understanding <br>\n",
    "3) prepare data <br>\n",
    "4) data modelling <br>\n",
    "5) evaluate the results <br>\n",
    "6) deploy "
   ]
  },
  {
   "cell_type": "markdown",
   "metadata": {},
   "source": [
    "# Business Understanding"
   ]
  },
  {
   "cell_type": "markdown",
   "metadata": {},
   "source": [
    "Airbnb, founded in 2008, is an online marketplace for arranging or offering lodging, primarily homestays, and tourism experiences. It is one of the world’s largest marketplaces for unique, authentic places to stay, offering over 7 million accommodations and 40,000 handcrafted activities, all powered by local hosts.\n",
    "In this project we are going to analyse and find insights about the various interacting elements from the data and find solution to the following questions.<br>\n",
    "\n",
    "#### 1) How does the listings  vary according to the bedroom size and the type of the property? \n",
    "#### 2) How is the interaction of host with their client affected based on their Acceptance rate, Response Rate and Response Time?\n",
    "#### 3) What are the important features that estimates the price of a certain Property?"
   ]
  },
  {
   "cell_type": "markdown",
   "metadata": {},
   "source": [
    "# Data Understanding"
   ]
  },
  {
   "cell_type": "markdown",
   "metadata": {},
   "source": [
    "Importing  the needed packages"
   ]
  },
  {
   "cell_type": "code",
   "execution_count": 1,
   "metadata": {},
   "outputs": [
    {
     "name": "stderr",
     "output_type": "stream",
     "text": [
      "C:\\Users\\Pratik\\Anaconda3\\lib\\site-packages\\sklearn\\cross_validation.py:41: DeprecationWarning: This module was deprecated in version 0.18 in favor of the model_selection module into which all the refactored classes and functions are moved. Also note that the interface of the new CV iterators are different from that of this module. This module will be removed in 0.20.\n",
      "  \"This module will be removed in 0.20.\", DeprecationWarning)\n",
      "C:\\Users\\Pratik\\Anaconda3\\lib\\site-packages\\sklearn\\grid_search.py:42: DeprecationWarning: This module was deprecated in version 0.18 in favor of the model_selection module into which all the refactored classes and functions are moved. This module will be removed in 0.20.\n",
      "  DeprecationWarning)\n"
     ]
    }
   ],
   "source": [
    "import os\n",
    "import numpy as np\n",
    "import pandas as pd\n",
    "import seaborn as sns\n",
    "from matplotlib import pyplot as plt\n",
    "import warnings\n",
    "import sklearn.metrics as metrics\n",
    "from sklearn.grid_search import GridSearchCV\n",
    "from sklearn.grid_search import RandomizedSearchCV\n",
    "from sklearn import metrics\n",
    "from sklearn import datasets\n",
    "from sklearn import cross_validation\n",
    "from sklearn import linear_model\n",
    "from sklearn import ensemble\n",
    "warnings.filterwarnings('ignore')"
   ]
  },
  {
   "cell_type": "markdown",
   "metadata": {},
   "source": [
    "Checking Working Directory\n"
   ]
  },
  {
   "cell_type": "code",
   "execution_count": 2,
   "metadata": {},
   "outputs": [],
   "source": [
    "os.getcwd()\n",
    "os.chdir('dataset')"
   ]
  },
  {
   "cell_type": "markdown",
   "metadata": {},
   "source": [
    "## Reading datas and viewing its properties"
   ]
  },
  {
   "cell_type": "code",
   "execution_count": 3,
   "metadata": {},
   "outputs": [],
   "source": [
    "calendar_data= pd.read_csv('calendar.csv')\n",
    "listings_data= pd.read_csv('listings.csv')\n",
    "reviews_data=pd.read_csv('reviews.csv')"
   ]
  },
  {
   "cell_type": "code",
   "execution_count": 4,
   "metadata": {},
   "outputs": [
    {
     "data": {
      "text/plain": [
       "(1393570, 4)"
      ]
     },
     "execution_count": 4,
     "metadata": {},
     "output_type": "execute_result"
    }
   ],
   "source": [
    "calendar_data.shape\n",
    "#listings_data.shape\n",
    "#len(reviews_data)"
   ]
  },
  {
   "cell_type": "code",
   "execution_count": 5,
   "metadata": {},
   "outputs": [
    {
     "name": "stdout",
     "output_type": "stream",
     "text": [
      "<class 'pandas.core.frame.DataFrame'>\n",
      "RangeIndex: 1393570 entries, 0 to 1393569\n",
      "Data columns (total 4 columns):\n",
      "listing_id    1393570 non-null int64\n",
      "date          1393570 non-null object\n",
      "available     1393570 non-null object\n",
      "price         934542 non-null object\n",
      "dtypes: int64(1), object(3)\n",
      "memory usage: 42.5+ MB\n"
     ]
    }
   ],
   "source": [
    "calendar_data.info()"
   ]
  },
  {
   "cell_type": "code",
   "execution_count": 6,
   "metadata": {},
   "outputs": [
    {
     "name": "stdout",
     "output_type": "stream",
     "text": [
      "<class 'pandas.core.frame.DataFrame'>\n",
      "RangeIndex: 3818 entries, 0 to 3817\n",
      "Data columns (total 92 columns):\n",
      "id                                  3818 non-null int64\n",
      "listing_url                         3818 non-null object\n",
      "scrape_id                           3818 non-null int64\n",
      "last_scraped                        3818 non-null object\n",
      "name                                3818 non-null object\n",
      "summary                             3641 non-null object\n",
      "space                               3249 non-null object\n",
      "description                         3818 non-null object\n",
      "experiences_offered                 3818 non-null object\n",
      "neighborhood_overview               2786 non-null object\n",
      "notes                               2212 non-null object\n",
      "transit                             2884 non-null object\n",
      "thumbnail_url                       3498 non-null object\n",
      "medium_url                          3498 non-null object\n",
      "picture_url                         3818 non-null object\n",
      "xl_picture_url                      3498 non-null object\n",
      "host_id                             3818 non-null int64\n",
      "host_url                            3818 non-null object\n",
      "host_name                           3816 non-null object\n",
      "host_since                          3816 non-null object\n",
      "host_location                       3810 non-null object\n",
      "host_about                          2959 non-null object\n",
      "host_response_time                  3295 non-null object\n",
      "host_response_rate                  3295 non-null object\n",
      "host_acceptance_rate                3045 non-null object\n",
      "host_is_superhost                   3816 non-null object\n",
      "host_thumbnail_url                  3816 non-null object\n",
      "host_picture_url                    3816 non-null object\n",
      "host_neighbourhood                  3518 non-null object\n",
      "host_listings_count                 3816 non-null float64\n",
      "host_total_listings_count           3816 non-null float64\n",
      "host_verifications                  3818 non-null object\n",
      "host_has_profile_pic                3816 non-null object\n",
      "host_identity_verified              3816 non-null object\n",
      "street                              3818 non-null object\n",
      "neighbourhood                       3402 non-null object\n",
      "neighbourhood_cleansed              3818 non-null object\n",
      "neighbourhood_group_cleansed        3818 non-null object\n",
      "city                                3818 non-null object\n",
      "state                               3818 non-null object\n",
      "zipcode                             3811 non-null object\n",
      "market                              3818 non-null object\n",
      "smart_location                      3818 non-null object\n",
      "country_code                        3818 non-null object\n",
      "country                             3818 non-null object\n",
      "latitude                            3818 non-null float64\n",
      "longitude                           3818 non-null float64\n",
      "is_location_exact                   3818 non-null object\n",
      "property_type                       3817 non-null object\n",
      "room_type                           3818 non-null object\n",
      "accommodates                        3818 non-null int64\n",
      "bathrooms                           3802 non-null float64\n",
      "bedrooms                            3812 non-null float64\n",
      "beds                                3817 non-null float64\n",
      "bed_type                            3818 non-null object\n",
      "amenities                           3818 non-null object\n",
      "square_feet                         97 non-null float64\n",
      "price                               3818 non-null object\n",
      "weekly_price                        2009 non-null object\n",
      "monthly_price                       1517 non-null object\n",
      "security_deposit                    1866 non-null object\n",
      "cleaning_fee                        2788 non-null object\n",
      "guests_included                     3818 non-null int64\n",
      "extra_people                        3818 non-null object\n",
      "minimum_nights                      3818 non-null int64\n",
      "maximum_nights                      3818 non-null int64\n",
      "calendar_updated                    3818 non-null object\n",
      "has_availability                    3818 non-null object\n",
      "availability_30                     3818 non-null int64\n",
      "availability_60                     3818 non-null int64\n",
      "availability_90                     3818 non-null int64\n",
      "availability_365                    3818 non-null int64\n",
      "calendar_last_scraped               3818 non-null object\n",
      "number_of_reviews                   3818 non-null int64\n",
      "first_review                        3191 non-null object\n",
      "last_review                         3191 non-null object\n",
      "review_scores_rating                3171 non-null float64\n",
      "review_scores_accuracy              3160 non-null float64\n",
      "review_scores_cleanliness           3165 non-null float64\n",
      "review_scores_checkin               3160 non-null float64\n",
      "review_scores_communication         3167 non-null float64\n",
      "review_scores_location              3163 non-null float64\n",
      "review_scores_value                 3162 non-null float64\n",
      "requires_license                    3818 non-null object\n",
      "license                             0 non-null float64\n",
      "jurisdiction_names                  3818 non-null object\n",
      "instant_bookable                    3818 non-null object\n",
      "cancellation_policy                 3818 non-null object\n",
      "require_guest_profile_picture       3818 non-null object\n",
      "require_guest_phone_verification    3818 non-null object\n",
      "calculated_host_listings_count      3818 non-null int64\n",
      "reviews_per_month                   3191 non-null float64\n",
      "dtypes: float64(17), int64(13), object(62)\n",
      "memory usage: 2.7+ MB\n"
     ]
    }
   ],
   "source": [
    "listings_data.info()"
   ]
  },
  {
   "cell_type": "code",
   "execution_count": 7,
   "metadata": {},
   "outputs": [
    {
     "name": "stdout",
     "output_type": "stream",
     "text": [
      "<class 'pandas.core.frame.DataFrame'>\n",
      "RangeIndex: 84849 entries, 0 to 84848\n",
      "Data columns (total 6 columns):\n",
      "listing_id       84849 non-null int64\n",
      "id               84849 non-null int64\n",
      "date             84849 non-null object\n",
      "reviewer_id      84849 non-null int64\n",
      "reviewer_name    84849 non-null object\n",
      "comments         84831 non-null object\n",
      "dtypes: int64(3), object(3)\n",
      "memory usage: 3.9+ MB\n"
     ]
    }
   ],
   "source": [
    "reviews_data.info()"
   ]
  },
  {
   "cell_type": "markdown",
   "metadata": {},
   "source": [
    "---"
   ]
  },
  {
   "cell_type": "markdown",
   "metadata": {},
   "source": [
    "# Q1  How does the listings  vary according to the bedroom size and the type of the property?\n",
    "\n"
   ]
  },
  {
   "cell_type": "code",
   "execution_count": 8,
   "metadata": {},
   "outputs": [
    {
     "data": {
      "image/png": "[encoded data removed]",
      "text/plain": [
       "<Figure size 1080x720 with 2 Axes>"
      ]
     },
     "metadata": {},
     "output_type": "display_data"
    }
   ],
   "source": [
    "# Setting style for the figure\n",
    "sns.set_style('darkgrid')\n",
    "plt.rcParams['figure.figsize']=(15,10)\n",
    "\n",
    "fig,axes= plt.subplots(1,2) #Creating subplot for better displaying the figure\n",
    "\n",
    "#creating a working data frame and cleaning the null values\n",
    "listings_by_property_and_bedroom =listings_data[['bedrooms','property_type']]\n",
    "listings_by_property_and_bedroom=listings_by_property_and_bedroom.fillna(0)\n",
    "\n",
    "# Creating countplot and storing it in the appropriate subplots\n",
    "chart1=sns.countplot(data=listings_by_property_and_bedroom,x='bedrooms',edgecolor='black',ax=axes[0]);\n",
    "chart1.set_xticklabels(chart1.get_xticklabels(), rotation=90)\n",
    "chart1.set_xlabel('Number of Bedroom',fontsize=15,color='Blue')\n",
    "chart1.set_ylabel('Count',fontsize=15,color='Blue')\n",
    "axes[0].set_title('Listings By Bedroom Number',fontsize=25)\n",
    "\n",
    "chart2=sns.countplot(data=listings_by_property_and_bedroom,x='property_type',edgecolor='black',ax=axes[1]);\n",
    "chart2.set_xticklabels(chart2.get_xticklabels(), rotation=90)\n",
    "chart2.set_xlabel('Property Type',fontsize=15,color='Blue')\n",
    "chart2.set_ylabel('Count',fontsize=15,color='Blue')\n",
    "axes[1].set_title('Listings By Property Type',fontsize=25)\n",
    "\n",
    "plt.show()"
   ]
  },
  {
   "cell_type": "markdown",
   "metadata": {},
   "source": [
    "We can see that the listings are maximum with 1 bedroom option, that is nearly 2500 and the listings type consists of Apartments and Houses in majority cases \n"
   ]
  },
  {
   "cell_type": "markdown",
   "metadata": {},
   "source": [
    "---"
   ]
  },
  {
   "cell_type": "markdown",
   "metadata": {},
   "source": [
    "# Q2 How is the interaction of host with their client affected based on their Acceptance rate, Response Rate and Response Time?"
   ]
  },
  {
   "cell_type": "code",
   "execution_count": 9,
   "metadata": {},
   "outputs": [],
   "source": [
    "# First generating the needed data frame from the main listing data\n",
    "host_properties=listings_data[['host_name','host_acceptance_rate','host_response_time','host_response_rate']]"
   ]
  },
  {
   "cell_type": "code",
   "execution_count": 10,
   "metadata": {},
   "outputs": [
    {
     "data": {
      "text/html": [
       "<div>\n",
       "<style scoped>\n",
       "    .dataframe tbody tr th:only-of-type {\n",
       "        vertical-align: middle;\n",
       "    }\n",
       "\n",
       "    .dataframe tbody tr th {\n",
       "        vertical-align: top;\n",
       "    }\n",
       "\n",
       "    .dataframe thead th {\n",
       "        text-align: right;\n",
       "    }\n",
       "</style>\n",
       "<table border=\"1\" class=\"dataframe\">\n",
       "  <thead>\n",
       "    <tr style=\"text-align: right;\">\n",
       "      <th></th>\n",
       "      <th>host_name</th>\n",
       "      <th>host_acceptance_rate</th>\n",
       "      <th>host_response_time</th>\n",
       "      <th>host_response_rate</th>\n",
       "    </tr>\n",
       "  </thead>\n",
       "  <tbody>\n",
       "    <tr>\n",
       "      <th>0</th>\n",
       "      <td>Maija</td>\n",
       "      <td>100%</td>\n",
       "      <td>within a few hours</td>\n",
       "      <td>96%</td>\n",
       "    </tr>\n",
       "    <tr>\n",
       "      <th>1</th>\n",
       "      <td>Andrea</td>\n",
       "      <td>100%</td>\n",
       "      <td>within an hour</td>\n",
       "      <td>98%</td>\n",
       "    </tr>\n",
       "    <tr>\n",
       "      <th>2</th>\n",
       "      <td>Jill</td>\n",
       "      <td>100%</td>\n",
       "      <td>within a few hours</td>\n",
       "      <td>67%</td>\n",
       "    </tr>\n",
       "    <tr>\n",
       "      <th>3</th>\n",
       "      <td>Emily</td>\n",
       "      <td>NaN</td>\n",
       "      <td>NaN</td>\n",
       "      <td>NaN</td>\n",
       "    </tr>\n",
       "    <tr>\n",
       "      <th>4</th>\n",
       "      <td>Emily</td>\n",
       "      <td>NaN</td>\n",
       "      <td>within an hour</td>\n",
       "      <td>100%</td>\n",
       "    </tr>\n",
       "  </tbody>\n",
       "</table>\n",
       "</div>"
      ],
      "text/plain": [
       "  host_name host_acceptance_rate  host_response_time host_response_rate\n",
       "0     Maija                 100%  within a few hours                96%\n",
       "1    Andrea                 100%      within an hour                98%\n",
       "2      Jill                 100%  within a few hours                67%\n",
       "3     Emily                  NaN                 NaN                NaN\n",
       "4     Emily                  NaN      within an hour               100%"
      ]
     },
     "execution_count": 10,
     "metadata": {},
     "output_type": "execute_result"
    }
   ],
   "source": [
    "#Viewing the new dataframe\n",
    "host_properties.head()"
   ]
  },
  {
   "cell_type": "markdown",
   "metadata": {},
   "source": [
    "#### We can see that there are rows with the host response rate, response time and acceptance rate consisiting of NAN values, In this case it is better to drop the rows that consists of all the Nan values in the row than imputing the values because, for a given host we cannot successfully predict all their required rates and that might lead to distort the obtained results"
   ]
  },
  {
   "cell_type": "code",
   "execution_count": 11,
   "metadata": {},
   "outputs": [],
   "source": [
    "host_properties=host_properties.dropna(axis=0,how='all',subset=['host_acceptance_rate','host_response_time','host_response_rate'])\n"
   ]
  },
  {
   "cell_type": "code",
   "execution_count": 12,
   "metadata": {},
   "outputs": [
    {
     "data": {
      "text/plain": [
       "(3313, 4)"
      ]
     },
     "execution_count": 12,
     "metadata": {},
     "output_type": "execute_result"
    }
   ],
   "source": [
    "host_properties.shape"
   ]
  },
  {
   "cell_type": "code",
   "execution_count": 13,
   "metadata": {},
   "outputs": [
    {
     "name": "stdout",
     "output_type": "stream",
     "text": [
      "within an hour        1692\n",
      "within a few hours     968\n",
      "within a day           597\n",
      "a few days or more      38\n",
      "Name: host_response_time, dtype: int64\n",
      "100%    2371\n",
      "90%      165\n",
      "80%      104\n",
      "99%       78\n",
      "88%       66\n",
      "50%       52\n",
      "94%       46\n",
      "67%       41\n",
      "89%       32\n",
      "75%       32\n",
      "86%       30\n",
      "98%       28\n",
      "96%       28\n",
      "70%       25\n",
      "97%       21\n",
      "60%       20\n",
      "83%       20\n",
      "92%       18\n",
      "93%       18\n",
      "33%       14\n",
      "40%       12\n",
      "63%       11\n",
      "71%        8\n",
      "95%        8\n",
      "78%        8\n",
      "91%        5\n",
      "43%        4\n",
      "25%        3\n",
      "76%        3\n",
      "87%        3\n",
      "64%        3\n",
      "57%        2\n",
      "58%        2\n",
      "82%        2\n",
      "17%        2\n",
      "55%        1\n",
      "81%        1\n",
      "53%        1\n",
      "68%        1\n",
      "30%        1\n",
      "56%        1\n",
      "38%        1\n",
      "69%        1\n",
      "65%        1\n",
      "31%        1\n",
      "Name: host_response_rate, dtype: int64\n",
      "100%    3044\n",
      "0%         1\n",
      "Name: host_acceptance_rate, dtype: int64\n"
     ]
    }
   ],
   "source": [
    "print(host_properties.host_response_time.value_counts())\n",
    "print(host_properties.host_response_rate.value_counts())\n",
    "print(host_properties.host_acceptance_rate.value_counts())"
   ]
  },
  {
   "cell_type": "markdown",
   "metadata": {},
   "source": [
    "#### In the original listings data, we had 3818 entries, after removing the rows with all NAN values, we  end up with 3313 entries, which is around 500 data with Nan values entirely.\n",
    "#### As we can see the above value counts for each columns, there are many columns that still consists of Nan values, which is around 100-300 entries. If we drop all the entries from that list too, we might not obtain a better  results. So, we can impute the values to fill the na values in the above dataframe which was obtained by removing all the rows consisting of all Nan values \n",
    "#### In this case it is better to fill the null values with mode, since the values are not quantitative but are categories"
   ]
  },
  {
   "cell_type": "code",
   "execution_count": 14,
   "metadata": {},
   "outputs": [],
   "source": [
    "# Filling the mode values in missing entries\n",
    "fill_mode= lambda col:col.fillna(col.mode()[0])\n",
    "host_properties=host_properties.apply(fill_mode)\n"
   ]
  },
  {
   "cell_type": "code",
   "execution_count": 15,
   "metadata": {},
   "outputs": [
    {
     "data": {
      "text/html": [
       "<div>\n",
       "<style scoped>\n",
       "    .dataframe tbody tr th:only-of-type {\n",
       "        vertical-align: middle;\n",
       "    }\n",
       "\n",
       "    .dataframe tbody tr th {\n",
       "        vertical-align: top;\n",
       "    }\n",
       "\n",
       "    .dataframe thead th {\n",
       "        text-align: right;\n",
       "    }\n",
       "</style>\n",
       "<table border=\"1\" class=\"dataframe\">\n",
       "  <thead>\n",
       "    <tr style=\"text-align: right;\">\n",
       "      <th></th>\n",
       "      <th>host_name</th>\n",
       "      <th>host_acceptance_rate</th>\n",
       "      <th>host_response_time</th>\n",
       "      <th>host_response_rate</th>\n",
       "    </tr>\n",
       "  </thead>\n",
       "  <tbody>\n",
       "    <tr>\n",
       "      <th>0</th>\n",
       "      <td>Maija</td>\n",
       "      <td>100%</td>\n",
       "      <td>within a few hours</td>\n",
       "      <td>96%</td>\n",
       "    </tr>\n",
       "    <tr>\n",
       "      <th>1</th>\n",
       "      <td>Andrea</td>\n",
       "      <td>100%</td>\n",
       "      <td>within an hour</td>\n",
       "      <td>98%</td>\n",
       "    </tr>\n",
       "    <tr>\n",
       "      <th>2</th>\n",
       "      <td>Jill</td>\n",
       "      <td>100%</td>\n",
       "      <td>within a few hours</td>\n",
       "      <td>67%</td>\n",
       "    </tr>\n",
       "    <tr>\n",
       "      <th>4</th>\n",
       "      <td>Emily</td>\n",
       "      <td>100%</td>\n",
       "      <td>within an hour</td>\n",
       "      <td>100%</td>\n",
       "    </tr>\n",
       "    <tr>\n",
       "      <th>6</th>\n",
       "      <td>Gary And Beth</td>\n",
       "      <td>100%</td>\n",
       "      <td>within an hour</td>\n",
       "      <td>100%</td>\n",
       "    </tr>\n",
       "  </tbody>\n",
       "</table>\n",
       "</div>"
      ],
      "text/plain": [
       "       host_name host_acceptance_rate  host_response_time host_response_rate\n",
       "0          Maija                 100%  within a few hours                96%\n",
       "1         Andrea                 100%      within an hour                98%\n",
       "2           Jill                 100%  within a few hours                67%\n",
       "4          Emily                 100%      within an hour               100%\n",
       "6  Gary And Beth                 100%      within an hour               100%"
      ]
     },
     "execution_count": 15,
     "metadata": {},
     "output_type": "execute_result"
    }
   ],
   "source": [
    "host_properties.head()\n"
   ]
  },
  {
   "cell_type": "markdown",
   "metadata": {},
   "source": [
    "As we can see that the remaning data has been filled with mode values and the nan has been populated with the mode values"
   ]
  },
  {
   "cell_type": "markdown",
   "metadata": {},
   "source": [
    "Lets now plot the newly refined data and view the interaction of the host to their customer requesting the accomodation"
   ]
  },
  {
   "cell_type": "code",
   "execution_count": 16,
   "metadata": {},
   "outputs": [],
   "source": [
    "# Creating a function for easier access to cat plot\n",
    "def cat_plot(df,axis=[],label=[],extra_parms=False):\n",
    "    cat_plot1= sns.catplot(x=axis[0],kind='count',palette='ch:.25',data=df)\n",
    "    cat_plot1.set_xlabels(label[0],fontsize=15,color='green')\n",
    "    cat_plot1.set_ylabels('Count',fontsize=15,color='green')   \n",
    "    if extra_parms==True:\n",
    "        cat_plot1.fig.set_size_inches(15,15)\n",
    "        cat_plot1.set_xticklabels(rotation=45)\n",
    "    plt.show()\n",
    "    "
   ]
  },
  {
   "cell_type": "code",
   "execution_count": 17,
   "metadata": {
    "scrolled": true
   },
   "outputs": [
    {
     "data": {
      "image/png": "[encoded data removed]",
      "text/plain": [
       "<Figure size 360x360 with 1 Axes>"
      ]
     },
     "metadata": {},
     "output_type": "display_data"
    },
    {
     "data": {
      "image/png": "[encoded data removed]",
      "text/plain": [
       "<Figure size 360x360 with 1 Axes>"
      ]
     },
     "metadata": {},
     "output_type": "display_data"
    },
    {
     "data": {
      "image/png": "[encoded data removed]",
      "text/plain": [
       "<Figure size 1080x1080 with 1 Axes>"
      ]
     },
     "metadata": {},
     "output_type": "display_data"
    }
   ],
   "source": [
    "catplot1=cat_plot(host_properties,axis=['host_response_time'],label=['Host Response Time'])\n",
    "catplot2=cat_plot(host_properties,axis=['host_acceptance_rate'],label=['Host Acceptance Rate'])\n",
    "catplot3=cat_plot(host_properties,axis=['host_response_rate'],label=['Host Response Rate'],extra_parms=True)"
   ]
  },
  {
   "cell_type": "markdown",
   "metadata": {},
   "source": [
    "#### We can see that the majority of host who has the listings of their property on aribnb are generally fast when responding to the request to provide accomodation.\n",
    "#### The first and second chart shows that the majority of the hosts respond within an hour and their acceptance rate is 100%, which might be due to the data itself and the fact that we filled the NAN values with mode of the columns in the host_properties. We cannot do much about this than to trust that the people who are willing to put their property listings are generally positive about accepting the offer when their property has been selected by a customer.\n",
    "#### From the third plot, we can see that the host response rate is also very high and the 100% rate is supported by around 2500 of the hosts, which is a nice thing and might be a reason for positive response that airbnb and the host get in general. "
   ]
  },
  {
   "cell_type": "markdown",
   "metadata": {},
   "source": [
    "---"
   ]
  },
  {
   "cell_type": "markdown",
   "metadata": {},
   "source": [
    "---"
   ]
  },
  {
   "cell_type": "markdown",
   "metadata": {},
   "source": [
    "# Q3 What are the important features that estimates the price of a certain Property?"
   ]
  },
  {
   "cell_type": "markdown",
   "metadata": {},
   "source": [
    " Lets create a new data comprising of the possible features that help in estimating the prices"
   ]
  },
  {
   "cell_type": "code",
   "execution_count": 18,
   "metadata": {},
   "outputs": [],
   "source": [
    "data = listings_data[['price',\n",
    "           'room_type',\n",
    "           'accommodates',\n",
    "           'bathrooms',\n",
    "           'bedrooms',\n",
    "           'beds',\n",
    "           'review_scores_rating',\n",
    "           'instant_bookable',\n",
    "           'cancellation_policy',\n",
    "           'amenities']]"
   ]
  },
  {
   "cell_type": "markdown",
   "metadata": {},
   "source": [
    "Lets perform some cleaning and refining the data that we will use before fitting it into a linear model\n"
   ]
  },
  {
   "cell_type": "code",
   "execution_count": 19,
   "metadata": {},
   "outputs": [
    {
     "data": {
      "text/html": [
       "<div>\n",
       "<style scoped>\n",
       "    .dataframe tbody tr th:only-of-type {\n",
       "        vertical-align: middle;\n",
       "    }\n",
       "\n",
       "    .dataframe tbody tr th {\n",
       "        vertical-align: top;\n",
       "    }\n",
       "\n",
       "    .dataframe thead th {\n",
       "        text-align: right;\n",
       "    }\n",
       "</style>\n",
       "<table border=\"1\" class=\"dataframe\">\n",
       "  <thead>\n",
       "    <tr style=\"text-align: right;\">\n",
       "      <th></th>\n",
       "      <th>price</th>\n",
       "      <th>room_type</th>\n",
       "      <th>accommodates</th>\n",
       "      <th>bathrooms</th>\n",
       "      <th>bedrooms</th>\n",
       "      <th>beds</th>\n",
       "      <th>review_scores_rating</th>\n",
       "      <th>instant_bookable</th>\n",
       "      <th>cancellation_policy</th>\n",
       "      <th>amenities</th>\n",
       "    </tr>\n",
       "  </thead>\n",
       "  <tbody>\n",
       "    <tr>\n",
       "      <th>0</th>\n",
       "      <td>85.0</td>\n",
       "      <td>Entire home/apt</td>\n",
       "      <td>4</td>\n",
       "      <td>1.0</td>\n",
       "      <td>1.0</td>\n",
       "      <td>1.0</td>\n",
       "      <td>95.0</td>\n",
       "      <td>f</td>\n",
       "      <td>moderate</td>\n",
       "      <td>{TV,\"Cable TV\",Internet,\"Wireless Internet\",\"A...</td>\n",
       "    </tr>\n",
       "    <tr>\n",
       "      <th>1</th>\n",
       "      <td>150.0</td>\n",
       "      <td>Entire home/apt</td>\n",
       "      <td>4</td>\n",
       "      <td>1.0</td>\n",
       "      <td>1.0</td>\n",
       "      <td>1.0</td>\n",
       "      <td>96.0</td>\n",
       "      <td>f</td>\n",
       "      <td>strict</td>\n",
       "      <td>{TV,Internet,\"Wireless Internet\",Kitchen,\"Free...</td>\n",
       "    </tr>\n",
       "    <tr>\n",
       "      <th>2</th>\n",
       "      <td>975.0</td>\n",
       "      <td>Entire home/apt</td>\n",
       "      <td>11</td>\n",
       "      <td>4.5</td>\n",
       "      <td>5.0</td>\n",
       "      <td>7.0</td>\n",
       "      <td>97.0</td>\n",
       "      <td>f</td>\n",
       "      <td>strict</td>\n",
       "      <td>{TV,\"Cable TV\",Internet,\"Wireless Internet\",\"A...</td>\n",
       "    </tr>\n",
       "    <tr>\n",
       "      <th>4</th>\n",
       "      <td>450.0</td>\n",
       "      <td>Entire home/apt</td>\n",
       "      <td>6</td>\n",
       "      <td>2.0</td>\n",
       "      <td>3.0</td>\n",
       "      <td>3.0</td>\n",
       "      <td>92.0</td>\n",
       "      <td>f</td>\n",
       "      <td>strict</td>\n",
       "      <td>{TV,\"Cable TV\",Internet,\"Wireless Internet\",Ki...</td>\n",
       "    </tr>\n",
       "    <tr>\n",
       "      <th>5</th>\n",
       "      <td>120.0</td>\n",
       "      <td>Private room</td>\n",
       "      <td>2</td>\n",
       "      <td>1.0</td>\n",
       "      <td>1.0</td>\n",
       "      <td>1.0</td>\n",
       "      <td>95.0</td>\n",
       "      <td>f</td>\n",
       "      <td>strict</td>\n",
       "      <td>{\"Wireless Internet\",\"Free Parking on Premises...</td>\n",
       "    </tr>\n",
       "  </tbody>\n",
       "</table>\n",
       "</div>"
      ],
      "text/plain": [
       "   price        room_type  accommodates  bathrooms  bedrooms  beds  \\\n",
       "0   85.0  Entire home/apt             4        1.0       1.0   1.0   \n",
       "1  150.0  Entire home/apt             4        1.0       1.0   1.0   \n",
       "2  975.0  Entire home/apt            11        4.5       5.0   7.0   \n",
       "4  450.0  Entire home/apt             6        2.0       3.0   3.0   \n",
       "5  120.0     Private room             2        1.0       1.0   1.0   \n",
       "\n",
       "   review_scores_rating instant_bookable cancellation_policy  \\\n",
       "0                  95.0                f            moderate   \n",
       "1                  96.0                f              strict   \n",
       "2                  97.0                f              strict   \n",
       "4                  92.0                f              strict   \n",
       "5                  95.0                f              strict   \n",
       "\n",
       "                                           amenities  \n",
       "0  {TV,\"Cable TV\",Internet,\"Wireless Internet\",\"A...  \n",
       "1  {TV,Internet,\"Wireless Internet\",Kitchen,\"Free...  \n",
       "2  {TV,\"Cable TV\",Internet,\"Wireless Internet\",\"A...  \n",
       "4  {TV,\"Cable TV\",Internet,\"Wireless Internet\",Ki...  \n",
       "5  {\"Wireless Internet\",\"Free Parking on Premises...  "
      ]
     },
     "execution_count": 19,
     "metadata": {},
     "output_type": "execute_result"
    }
   ],
   "source": [
    "# replacing NaN values with 0\n",
    "data.fillna(0, inplace=True)\n",
    "\n",
    "# extract the 'prices' from the table\n",
    "price = data['price']\n",
    "prices = []\n",
    "\n",
    "# the values are stored as '$1' instead of 1.\n",
    "# data cleaning to make the values into floats\n",
    "for element in price:\n",
    "    element = float(element[1:].replace(',',''))\n",
    "    prices.append(element)\n",
    "\n",
    "# replacing the current column into a new one for future use\n",
    "data['price'] = prices\n",
    "\n",
    "# excluding listings with \"0\" for price, bedrooms, etc\n",
    "data = data[data.price > 0]\n",
    "data = data[data.bedrooms > 0]\n",
    "data = data[data.beds > 0]\n",
    "data = data[data.review_scores_rating > 0]\n",
    "data = data[data.accommodates > 0]\n",
    "data = data[data.bathrooms > 0]\n",
    "\n",
    "# first 5 of the data\n",
    "data[0:5]"
   ]
  },
  {
   "cell_type": "code",
   "execution_count": 20,
   "metadata": {},
   "outputs": [],
   "source": [
    "# cancellation policy and instant bookable factors are little bit more complicated.\n",
    "# we use pandas get_dummies function to convert the categorical variable into indicator variables\n",
    "\n",
    "cancel_policy = pd.get_dummies(data.cancellation_policy).astype(int)\n",
    "instant_booking = pd.get_dummies(data.instant_bookable, prefix = 'instant_booking').astype(int)\n",
    "room_type = pd.get_dummies(data.room_type).astype(int)\n",
    "\n",
    "# ib has 2 columns, so we can just drop one of them.\n",
    "instant_booking = instant_booking.drop('instant_booking_f', axis = 1)"
   ]
  },
  {
   "cell_type": "code",
   "execution_count": 21,
   "metadata": {},
   "outputs": [],
   "source": [
    "# we drop the original columns and replace them with indicator columns\n",
    "data = data.drop(['cancellation_policy', 'instant_bookable', 'room_type'], axis = 1)\n",
    "data = pd.concat((data, cancel_policy, instant_booking, room_type), axis = 1)"
   ]
  },
  {
   "cell_type": "code",
   "execution_count": 22,
   "metadata": {},
   "outputs": [],
   "source": [
    "# splitting the amenities list to draw out how many amenities each listing has\n",
    "\n",
    "amenities_list = []\n",
    "\n",
    "for element in data.amenities:\n",
    "    element = element[1:]\n",
    "    element = element[:-1]\n",
    "    x = element.split()\n",
    "    amenities_list.append(len(x))\n",
    "\n",
    "data.amenities = amenities_list"
   ]
  },
  {
   "cell_type": "code",
   "execution_count": 23,
   "metadata": {},
   "outputs": [
    {
     "data": {
      "text/html": [
       "<div>\n",
       "<style scoped>\n",
       "    .dataframe tbody tr th:only-of-type {\n",
       "        vertical-align: middle;\n",
       "    }\n",
       "\n",
       "    .dataframe tbody tr th {\n",
       "        vertical-align: top;\n",
       "    }\n",
       "\n",
       "    .dataframe thead th {\n",
       "        text-align: right;\n",
       "    }\n",
       "</style>\n",
       "<table border=\"1\" class=\"dataframe\">\n",
       "  <thead>\n",
       "    <tr style=\"text-align: right;\">\n",
       "      <th></th>\n",
       "      <th>price</th>\n",
       "      <th>accommodates</th>\n",
       "      <th>bathrooms</th>\n",
       "      <th>bedrooms</th>\n",
       "      <th>beds</th>\n",
       "      <th>review_scores_rating</th>\n",
       "      <th>amenities</th>\n",
       "      <th>flexible</th>\n",
       "      <th>moderate</th>\n",
       "      <th>strict</th>\n",
       "      <th>instant_booking_t</th>\n",
       "      <th>Entire home/apt</th>\n",
       "      <th>Private room</th>\n",
       "      <th>Shared room</th>\n",
       "    </tr>\n",
       "  </thead>\n",
       "  <tbody>\n",
       "    <tr>\n",
       "      <th>0</th>\n",
       "      <td>85.0</td>\n",
       "      <td>4</td>\n",
       "      <td>1.0</td>\n",
       "      <td>1.0</td>\n",
       "      <td>1.0</td>\n",
       "      <td>95.0</td>\n",
       "      <td>5</td>\n",
       "      <td>0</td>\n",
       "      <td>1</td>\n",
       "      <td>0</td>\n",
       "      <td>0</td>\n",
       "      <td>1</td>\n",
       "      <td>0</td>\n",
       "      <td>0</td>\n",
       "    </tr>\n",
       "    <tr>\n",
       "      <th>1</th>\n",
       "      <td>150.0</td>\n",
       "      <td>4</td>\n",
       "      <td>1.0</td>\n",
       "      <td>1.0</td>\n",
       "      <td>1.0</td>\n",
       "      <td>96.0</td>\n",
       "      <td>14</td>\n",
       "      <td>0</td>\n",
       "      <td>0</td>\n",
       "      <td>1</td>\n",
       "      <td>0</td>\n",
       "      <td>1</td>\n",
       "      <td>0</td>\n",
       "      <td>0</td>\n",
       "    </tr>\n",
       "    <tr>\n",
       "      <th>2</th>\n",
       "      <td>975.0</td>\n",
       "      <td>11</td>\n",
       "      <td>4.5</td>\n",
       "      <td>5.0</td>\n",
       "      <td>7.0</td>\n",
       "      <td>97.0</td>\n",
       "      <td>18</td>\n",
       "      <td>0</td>\n",
       "      <td>0</td>\n",
       "      <td>1</td>\n",
       "      <td>0</td>\n",
       "      <td>1</td>\n",
       "      <td>0</td>\n",
       "      <td>0</td>\n",
       "    </tr>\n",
       "    <tr>\n",
       "      <th>4</th>\n",
       "      <td>450.0</td>\n",
       "      <td>6</td>\n",
       "      <td>2.0</td>\n",
       "      <td>3.0</td>\n",
       "      <td>3.0</td>\n",
       "      <td>92.0</td>\n",
       "      <td>10</td>\n",
       "      <td>0</td>\n",
       "      <td>0</td>\n",
       "      <td>1</td>\n",
       "      <td>0</td>\n",
       "      <td>1</td>\n",
       "      <td>0</td>\n",
       "      <td>0</td>\n",
       "    </tr>\n",
       "    <tr>\n",
       "      <th>5</th>\n",
       "      <td>120.0</td>\n",
       "      <td>2</td>\n",
       "      <td>1.0</td>\n",
       "      <td>1.0</td>\n",
       "      <td>1.0</td>\n",
       "      <td>95.0</td>\n",
       "      <td>6</td>\n",
       "      <td>0</td>\n",
       "      <td>0</td>\n",
       "      <td>1</td>\n",
       "      <td>0</td>\n",
       "      <td>0</td>\n",
       "      <td>1</td>\n",
       "      <td>0</td>\n",
       "    </tr>\n",
       "    <tr>\n",
       "      <th>...</th>\n",
       "      <td>...</td>\n",
       "      <td>...</td>\n",
       "      <td>...</td>\n",
       "      <td>...</td>\n",
       "      <td>...</td>\n",
       "      <td>...</td>\n",
       "      <td>...</td>\n",
       "      <td>...</td>\n",
       "      <td>...</td>\n",
       "      <td>...</td>\n",
       "      <td>...</td>\n",
       "      <td>...</td>\n",
       "      <td>...</td>\n",
       "      <td>...</td>\n",
       "    </tr>\n",
       "    <tr>\n",
       "      <th>3810</th>\n",
       "      <td>154.0</td>\n",
       "      <td>5</td>\n",
       "      <td>1.0</td>\n",
       "      <td>2.0</td>\n",
       "      <td>3.0</td>\n",
       "      <td>92.0</td>\n",
       "      <td>17</td>\n",
       "      <td>0</td>\n",
       "      <td>0</td>\n",
       "      <td>1</td>\n",
       "      <td>0</td>\n",
       "      <td>1</td>\n",
       "      <td>0</td>\n",
       "      <td>0</td>\n",
       "    </tr>\n",
       "    <tr>\n",
       "      <th>3811</th>\n",
       "      <td>65.0</td>\n",
       "      <td>3</td>\n",
       "      <td>1.0</td>\n",
       "      <td>1.0</td>\n",
       "      <td>1.0</td>\n",
       "      <td>100.0</td>\n",
       "      <td>9</td>\n",
       "      <td>0</td>\n",
       "      <td>1</td>\n",
       "      <td>0</td>\n",
       "      <td>0</td>\n",
       "      <td>1</td>\n",
       "      <td>0</td>\n",
       "      <td>0</td>\n",
       "    </tr>\n",
       "    <tr>\n",
       "      <th>3812</th>\n",
       "      <td>95.0</td>\n",
       "      <td>4</td>\n",
       "      <td>1.0</td>\n",
       "      <td>1.0</td>\n",
       "      <td>2.0</td>\n",
       "      <td>96.0</td>\n",
       "      <td>15</td>\n",
       "      <td>0</td>\n",
       "      <td>1</td>\n",
       "      <td>0</td>\n",
       "      <td>1</td>\n",
       "      <td>1</td>\n",
       "      <td>0</td>\n",
       "      <td>0</td>\n",
       "    </tr>\n",
       "    <tr>\n",
       "      <th>3813</th>\n",
       "      <td>359.0</td>\n",
       "      <td>6</td>\n",
       "      <td>2.0</td>\n",
       "      <td>3.0</td>\n",
       "      <td>3.0</td>\n",
       "      <td>80.0</td>\n",
       "      <td>11</td>\n",
       "      <td>0</td>\n",
       "      <td>0</td>\n",
       "      <td>1</td>\n",
       "      <td>0</td>\n",
       "      <td>1</td>\n",
       "      <td>0</td>\n",
       "      <td>0</td>\n",
       "    </tr>\n",
       "    <tr>\n",
       "      <th>3814</th>\n",
       "      <td>79.0</td>\n",
       "      <td>4</td>\n",
       "      <td>1.0</td>\n",
       "      <td>1.0</td>\n",
       "      <td>2.0</td>\n",
       "      <td>100.0</td>\n",
       "      <td>13</td>\n",
       "      <td>0</td>\n",
       "      <td>1</td>\n",
       "      <td>0</td>\n",
       "      <td>0</td>\n",
       "      <td>1</td>\n",
       "      <td>0</td>\n",
       "      <td>0</td>\n",
       "    </tr>\n",
       "  </tbody>\n",
       "</table>\n",
       "<p>2843 rows × 14 columns</p>\n",
       "</div>"
      ],
      "text/plain": [
       "      price  accommodates  bathrooms  bedrooms  beds  review_scores_rating  \\\n",
       "0      85.0             4        1.0       1.0   1.0                  95.0   \n",
       "1     150.0             4        1.0       1.0   1.0                  96.0   \n",
       "2     975.0            11        4.5       5.0   7.0                  97.0   \n",
       "4     450.0             6        2.0       3.0   3.0                  92.0   \n",
       "5     120.0             2        1.0       1.0   1.0                  95.0   \n",
       "...     ...           ...        ...       ...   ...                   ...   \n",
       "3810  154.0             5        1.0       2.0   3.0                  92.0   \n",
       "3811   65.0             3        1.0       1.0   1.0                 100.0   \n",
       "3812   95.0             4        1.0       1.0   2.0                  96.0   \n",
       "3813  359.0             6        2.0       3.0   3.0                  80.0   \n",
       "3814   79.0             4        1.0       1.0   2.0                 100.0   \n",
       "\n",
       "      amenities  flexible  moderate  strict  instant_booking_t  \\\n",
       "0             5         0         1       0                  0   \n",
       "1            14         0         0       1                  0   \n",
       "2            18         0         0       1                  0   \n",
       "4            10         0         0       1                  0   \n",
       "5             6         0         0       1                  0   \n",
       "...         ...       ...       ...     ...                ...   \n",
       "3810         17         0         0       1                  0   \n",
       "3811          9         0         1       0                  0   \n",
       "3812         15         0         1       0                  1   \n",
       "3813         11         0         0       1                  0   \n",
       "3814         13         0         1       0                  0   \n",
       "\n",
       "      Entire home/apt  Private room  Shared room  \n",
       "0                   1             0            0  \n",
       "1                   1             0            0  \n",
       "2                   1             0            0  \n",
       "4                   1             0            0  \n",
       "5                   0             1            0  \n",
       "...               ...           ...          ...  \n",
       "3810                1             0            0  \n",
       "3811                1             0            0  \n",
       "3812                1             0            0  \n",
       "3813                1             0            0  \n",
       "3814                1             0            0  \n",
       "\n",
       "[2843 rows x 14 columns]"
      ]
     },
     "execution_count": 23,
     "metadata": {},
     "output_type": "execute_result"
    }
   ],
   "source": [
    "data"
   ]
  },
  {
   "cell_type": "markdown",
   "metadata": {},
   "source": [
    "## Lets Create a training and test data,  now that we have converted all the required values to numericalvalues"
   ]
  },
  {
   "cell_type": "markdown",
   "metadata": {},
   "source": []
  },
  {
   "cell_type": "code",
   "execution_count": 24,
   "metadata": {},
   "outputs": [],
   "source": [
    "# splitting the training and test sets with a 70% and 30% size of original\n",
    "split_data = data.drop(['price'], axis = 1)\n",
    "\n",
    "train1, test1, train2, test2 = cross_validation.train_test_split(split_data,data.price, test_size=0.3,train_size = 0.7,random_state=13)"
   ]
  },
  {
   "cell_type": "code",
   "execution_count": 25,
   "metadata": {},
   "outputs": [
    {
     "name": "stdout",
     "output_type": "stream",
     "text": [
      "Linear Regression: 24.165494920402182\n",
      "Ridge: 24.113520583050672\n"
     ]
    }
   ],
   "source": [
    "# linear regression testing\n",
    "linear_reg = linear_model.LinearRegression()\n",
    "linear_reg.fit(train1, train2)\n",
    "linear_reg_error = metrics.median_absolute_error(test2, linear_reg.predict(test1))\n",
    "\n",
    "# ridge model testing\n",
    "ridge = linear_model.Ridge()\n",
    "ridge.fit(train1, train2)\n",
    "ridge_error = metrics.median_absolute_error(test2, ridge.predict(test1))\n",
    "print (\"Linear Regression: \" + str(linear_reg_error))\n",
    "print (\"Ridge: \" + str(ridge_error))"
   ]
  },
  {
   "cell_type": "markdown",
   "metadata": {},
   "source": [
    "It seems that both linear regression and ridge come out to be around $25 of error when predicting the prices. Let's see if we can lower this number by utilizing scikit learn's ensemble and GridSearchCV."
   ]
  },
  {
   "cell_type": "markdown",
   "metadata": {},
   "source": [
    "There are many estimators that can be used, like AdaBoost, GradientBoost and Bagging Regressor. In this case we will be using GradientBoost because it allows for optimization of arbitary differential loss functions by fitting a regression tree on the negative gradient.\n",
    "Other estimators can also be used in this case, they each have their perks but we will work with the gradientboost regressor\n"
   ]
  },
  {
   "cell_type": "code",
   "execution_count": 26,
   "metadata": {},
   "outputs": [
    {
     "name": "stdout",
     "output_type": "stream",
     "text": [
      "GradientBoostingRegressor: $21.026615193821193\n"
     ]
    }
   ],
   "source": [
    "#  Gradient Boost Regressor\n",
    "param_names = [\"n_estimators\", \"max_depth\", \"learning_rate\", \"loss\", \"min_samples_split\"]\n",
    "param_values = [[100,300,500], [1,2,3,4], [0.01, 0.02], ['ls', 'lad'], [2,2]]\n",
    "\n",
    "parameters = dict(zip(param_names, param_values))\n",
    "gbr = GridSearchCV(ensemble.GradientBoostingRegressor(), \n",
    "                   cv = 3, \n",
    "                   param_grid = parameters, \n",
    "                   scoring='median_absolute_error')\n",
    "preds = gbr.fit(train1, train2)\n",
    "gbr_best_estimator = gbr.best_estimator_\n",
    "print(\"GradientBoostingRegressor: \" + \"$\" + str(abs(gbr.best_score_)))"
   ]
  },
  {
   "cell_type": "markdown",
   "metadata": {},
   "source": [
    "We can see that the error has reduced to 20.99, which is just enough to work with. Now that we have adjusted the error we can move on to plotting the importance of features for the listings, which in turn will help to predict the prices of the property with much better accuracy and with less errors"
   ]
  },
  {
   "cell_type": "code",
   "execution_count": 27,
   "metadata": {},
   "outputs": [
    {
     "data": {
      "image/png": "[encoded data removed]",
      "text/plain": [
       "<Figure size 1080x720 with 1 Axes>"
      ]
     },
     "metadata": {},
     "output_type": "display_data"
    }
   ],
   "source": [
    "#Creating feature scores and plotting along the chart to visualise the important features\n",
    "feature_importance = gbr_best_estimator.feature_importances_\n",
    "feature_score = 100.0 * (feature_importance / feature_importance.max())\n",
    "\n",
    "feature = pd.Series(feature_score, index = train1.columns).sort_values(ascending = True)\n",
    "kwargs={'fontsize':20}\n",
    "feature.plot(kind = 'bar',\n",
    "              figsize = (15,10),\n",
    "              color = 'Green',\n",
    "              title='Feature Importance',\n",
    "              **kwargs)\n",
    "\n",
    "plt.show()            "
   ]
  },
  {
   "cell_type": "markdown",
   "metadata": {},
   "source": [
    "We can see that the properties/ features that are most relevant to determining the price of the Owners property ranges from basic features like amenities and bedrooms to the review scores obtained. \n",
    "These features are essential to determine the prices for a new available listings according to the data we used."
   ]
  },
  {
   "cell_type": "markdown",
   "metadata": {},
   "source": [
    "# Conclusion"
   ]
  },
  {
   "cell_type": "markdown",
   "metadata": {},
   "source": [
    "In this notebook, we loaded, cleaned, then explored airBnb data. We visualized the interaction between various elements and also built an estimator that helps to predict the prices of the property."
   ]
  },
  {
   "cell_type": "markdown",
   "metadata": {},
   "source": [
    "# Insights"
   ]
  },
  {
   "cell_type": "markdown",
   "metadata": {},
   "source": [
    "1) We found out that the majority of the properties available at AirBnb consists of 1 Bedroom property and the Property Type is Apartment/ Houses in the majority cases. <br>\n",
    "2) We found out that most hosts are quick to respond to the incoming customer request and are willing to provide accomodation to the customer as quick as possible, and majority of the responses are within an hour and the acceptance rate is 100% for any request made by the customer. This shows that the hosts are quick and positive to provide accomodation to the customers. <br>\n",
    "3) We found out the importance scores for the potential feature that can help to estimate the prices of the property and that included Bedroom, Accomodation and Bathroom to be the top 3 features that the customers look for in their rentals.\n"
   ]
  },
  {
   "cell_type": "code",
   "execution_count": null,
   "metadata": {},
   "outputs": [],
   "source": []
  }
 ],
 "metadata": {
  "kernelspec": {
   "display_name": "Python 3",
   "language": "python",
   "name": "python3"
  },
  "language_info": {
   "codemirror_mode": {
    "name": "ipython",
    "version": 3
   },
   "file_extension": ".py",
   "mimetype": "text/x-python",
   "name": "python",
   "nbconvert_exporter": "python",
   "pygments_lexer": "ipython3",
   "version": "3.6.5"
  }
 },
 "nbformat": 4,
 "nbformat_minor": 2
}
